{
  "cells": [
    {
      "cell_type": "code",
      "execution_count": 1,
      "metadata": {
        "id": "bQ8hQg5_McHe"
      },
      "outputs": [],
      "source": [
        "from pyspark.sql import SparkSession\n",
        "from pyspark.sql import Row\n",
        "import  pyspark.sql.functions as fun\n",
        "import numpy as np\n",
        "from pyspark.sql.types import *"
      ]
    },
    {
      "cell_type": "code",
      "execution_count": 2,
      "metadata": {
        "id": "sVjYu4LVMcHg"
      },
      "outputs": [],
      "source": [
        "spark = SparkSession.builder.getOrCreate()"
      ]
    },
    {
      "cell_type": "code",
      "execution_count": 3,
      "metadata": {
        "id": "UCUjLgXHMcHg"
      },
      "outputs": [],
      "source": [
        "sc = spark.sparkContext"
      ]
    },
    {
      "cell_type": "markdown",
      "metadata": {
        "id": "B60OFk05McHg"
      },
      "source": [
        "Create an RDD from a list of numbers (1,50) using numpy methods"
      ]
    },
    {
      "cell_type": "code",
      "execution_count": 5,
      "metadata": {
        "id": "7NmsWJQoMcHh",
        "outputId": "2c383ca3-93b7-43e1-b2e1-efdcccaf901d",
        "colab": {
          "base_uri": "https://localhost:8080/"
        }
      },
      "outputs": [
        {
          "output_type": "execute_result",
          "data": {
            "text/plain": [
              "[1,\n",
              " 2,\n",
              " 3,\n",
              " 4,\n",
              " 5,\n",
              " 6,\n",
              " 7,\n",
              " 8,\n",
              " 9,\n",
              " 10,\n",
              " 11,\n",
              " 12,\n",
              " 13,\n",
              " 14,\n",
              " 15,\n",
              " 16,\n",
              " 17,\n",
              " 18,\n",
              " 19,\n",
              " 20,\n",
              " 21,\n",
              " 22,\n",
              " 23,\n",
              " 24,\n",
              " 25,\n",
              " 26,\n",
              " 27,\n",
              " 28,\n",
              " 29,\n",
              " 30,\n",
              " 31,\n",
              " 32,\n",
              " 33,\n",
              " 34,\n",
              " 35,\n",
              " 36,\n",
              " 37,\n",
              " 38,\n",
              " 39,\n",
              " 40,\n",
              " 41,\n",
              " 42,\n",
              " 43,\n",
              " 44,\n",
              " 45,\n",
              " 46,\n",
              " 47,\n",
              " 48,\n",
              " 49]"
            ]
          },
          "metadata": {},
          "execution_count": 5
        }
      ],
      "source": [
        "numbers = np.arange(1, 50).tolist()\n",
        "rdd_numbers = sc.parallelize(numbers)\n",
        "rdd_numbers.collect()"
      ]
    },
    {
      "cell_type": "markdown",
      "metadata": {
        "id": "KzfuKeb3McHi"
      },
      "source": [
        "Find the sum, average, maximum, minimum, and count"
      ]
    },
    {
      "cell_type": "code",
      "execution_count": 6,
      "metadata": {
        "id": "yAn9A9AVMcHi",
        "outputId": "4d5055c5-cc42-48bc-d571-54e0b3a5dfb0",
        "colab": {
          "base_uri": "https://localhost:8080/"
        }
      },
      "outputs": [
        {
          "output_type": "execute_result",
          "data": {
            "text/plain": [
              "1225"
            ]
          },
          "metadata": {},
          "execution_count": 6
        }
      ],
      "source": [
        "rdd_numbers.sum()\n"
      ]
    },
    {
      "cell_type": "code",
      "execution_count": 7,
      "metadata": {
        "id": "Xttloe-7McHi",
        "outputId": "16a21b07-b319-4330-f45d-b47eb1ad202a",
        "colab": {
          "base_uri": "https://localhost:8080/"
        }
      },
      "outputs": [
        {
          "output_type": "execute_result",
          "data": {
            "text/plain": [
              "25.0"
            ]
          },
          "metadata": {},
          "execution_count": 7
        }
      ],
      "source": [
        "rdd_numbers.mean()\n"
      ]
    },
    {
      "cell_type": "code",
      "execution_count": 8,
      "metadata": {
        "id": "sqIa81dKMcHi",
        "outputId": "ee8d6458-2f9d-4df9-8a2a-58cb7d1f5cff",
        "colab": {
          "base_uri": "https://localhost:8080/"
        }
      },
      "outputs": [
        {
          "output_type": "execute_result",
          "data": {
            "text/plain": [
              "49"
            ]
          },
          "metadata": {},
          "execution_count": 8
        }
      ],
      "source": [
        "rdd_numbers.count()\n"
      ]
    },
    {
      "cell_type": "code",
      "execution_count": 9,
      "metadata": {
        "id": "sjwQiLCcMcHj",
        "outputId": "51e76a7e-c7ff-42a3-8a82-6545bbb76370",
        "colab": {
          "base_uri": "https://localhost:8080/"
        }
      },
      "outputs": [
        {
          "output_type": "execute_result",
          "data": {
            "text/plain": [
              "1"
            ]
          },
          "metadata": {},
          "execution_count": 9
        }
      ],
      "source": [
        "rdd_numbers.min()\n"
      ]
    },
    {
      "cell_type": "code",
      "execution_count": 10,
      "metadata": {
        "id": "0KNHwJCBMcHj",
        "outputId": "1511beed-004f-44de-b087-25e19cae9a03",
        "colab": {
          "base_uri": "https://localhost:8080/"
        }
      },
      "outputs": [
        {
          "output_type": "execute_result",
          "data": {
            "text/plain": [
              "49"
            ]
          },
          "metadata": {},
          "execution_count": 10
        }
      ],
      "source": [
        "rdd_numbers.max()\n"
      ]
    },
    {
      "cell_type": "markdown",
      "metadata": {
        "id": "j2NwaI9JMcHj"
      },
      "source": [
        "Count how many numbers are even vs. odd."
      ]
    },
    {
      "cell_type": "code",
      "execution_count": 12,
      "metadata": {
        "id": "nZLeMv2sMcHj",
        "outputId": "b6bbdcfa-3b4f-44f4-981e-7f4e2bfe1bca",
        "colab": {
          "base_uri": "https://localhost:8080/"
        }
      },
      "outputs": [
        {
          "output_type": "stream",
          "name": "stdout",
          "text": [
            "odd Numbers: 25 even Numbers: 24\n"
          ]
        }
      ],
      "source": [
        "even_count = rdd_numbers.filter(lambda x: x % 2 == 0).count()\n",
        "odd_count = rdd_numbers.filter(lambda x: x % 2 != 0).count()\n",
        "print(f\"odd Numbers: {odd_count} even Numbers: {even_count}\")"
      ]
    },
    {
      "cell_type": "markdown",
      "metadata": {
        "id": "ZO9CkFZSMcHj"
      },
      "source": [
        "You have the following data of people info ('Name', 'Age'), answer the following questions"
      ]
    },
    {
      "cell_type": "code",
      "execution_count": 14,
      "metadata": {
        "id": "71JJMMY7McHj",
        "outputId": "fe41dc28-5f27-488b-bd3d-f60480a5be8c",
        "colab": {
          "base_uri": "https://localhost:8080/"
        }
      },
      "outputs": [
        {
          "output_type": "execute_result",
          "data": {
            "text/plain": [
              "[('Nada ', 25),\n",
              " ('Mona', 30),\n",
              " ('Ahmed', 35),\n",
              " ('Khaled', 40),\n",
              " ('Ahmed', 35),\n",
              " ('Nada ', 25)]"
            ]
          },
          "metadata": {},
          "execution_count": 14
        }
      ],
      "source": [
        "people_data = [(\"Nada \", 25), (\"Mona\", 30), (\"Ahmed\", 35), (\"Khaled\", 40),(\"Ahmed\", 35), ('Nada ', 25)]\n",
        "rdd_people = sc.parallelize(people_data)\n",
        "rdd_people.collect()"
      ]
    },
    {
      "cell_type": "markdown",
      "metadata": {
        "id": "RfAn6HkFMcHk"
      },
      "source": [
        "Find the oldest person"
      ]
    },
    {
      "cell_type": "code",
      "execution_count": 15,
      "metadata": {
        "id": "8pYPzVdHMcHk",
        "outputId": "b6c0dcb1-c6f9-4d00-980d-fe53058db935",
        "colab": {
          "base_uri": "https://localhost:8080/"
        }
      },
      "outputs": [
        {
          "output_type": "execute_result",
          "data": {
            "text/plain": [
              "('Khaled', 40)"
            ]
          },
          "metadata": {},
          "execution_count": 15
        }
      ],
      "source": [
        "rdd_people.max(key=lambda x: x[1])"
      ]
    },
    {
      "cell_type": "markdown",
      "metadata": {
        "id": "rki-C9kxMcHk"
      },
      "source": [
        "Compute the average age"
      ]
    },
    {
      "cell_type": "code",
      "execution_count": 16,
      "metadata": {
        "id": "1AJDhHOmMcHk",
        "outputId": "29d11ee0-6e04-4194-c254-6efb8b662797",
        "colab": {
          "base_uri": "https://localhost:8080/"
        }
      },
      "outputs": [
        {
          "output_type": "execute_result",
          "data": {
            "text/plain": [
              "31.666666666666668"
            ]
          },
          "metadata": {},
          "execution_count": 16
        }
      ],
      "source": [
        "rdd_people.map(lambda x: x[1]).mean()"
      ]
    },
    {
      "cell_type": "markdown",
      "metadata": {
        "id": "MINEi9xUMcHk"
      },
      "source": [
        "Group all the names by their age"
      ]
    },
    {
      "cell_type": "code",
      "execution_count": 17,
      "metadata": {
        "id": "REDWjlEFMcHk",
        "outputId": "a4ef9b5b-bae2-4965-df0b-a6ee1ad9106d",
        "colab": {
          "base_uri": "https://localhost:8080/"
        }
      },
      "outputs": [
        {
          "output_type": "execute_result",
          "data": {
            "text/plain": [
              "[(30, [('Mona', 30)]),\n",
              " (40, [('Khaled', 40)]),\n",
              " (25, [('Nada ', 25), ('Nada ', 25)]),\n",
              " (35, [('Ahmed', 35), ('Ahmed', 35)])]"
            ]
          },
          "metadata": {},
          "execution_count": 17
        }
      ],
      "source": [
        "rdd_people.groupBy(lambda x: x[1]).mapValues(list).collect()"
      ]
    },
    {
      "cell_type": "markdown",
      "metadata": {
        "id": "XZ0icuA_McHk"
      },
      "source": [
        "Take the following text and put it in a text file named russia.txt and load it into rdd\n",
        "\n",
        "\"Russia is the largest country in the world by land area\n",
        "Moscow is the capital city of Russia\n",
        "The Russian language is one of the most widely spoken languages in the world\n",
        "Russia is known for its rich history and culture\n",
        "The Trans-Siberian Railway is the longest railway line in the world\n",
        "Russia has a strong tradition in literature, music and ballet\n",
        "The country is famous for its cold winters and vast landscapes\n",
        "Russia is a major player in global energy production\n",
        "\""
      ]
    },
    {
      "cell_type": "code",
      "execution_count": 22,
      "metadata": {
        "id": "IOMU8anUMcHk",
        "outputId": "467cf1c5-18b9-4dba-f93c-82461c566304",
        "colab": {
          "base_uri": "https://localhost:8080/"
        }
      },
      "outputs": [
        {
          "output_type": "execute_result",
          "data": {
            "text/plain": [
              "['Russia is the largest country in the world by land area',\n",
              " 'Moscow is the capital city of Russia',\n",
              " 'The Russian language is one of the most widely spoken languages in the world',\n",
              " 'Russia is known for its rich history and culture',\n",
              " 'The Trans-Siberian Railway is the longest railway line in the world',\n",
              " 'Russia has a strong tradition in literature, music and ballet',\n",
              " 'The country is famous for its cold winters and vast landscapes',\n",
              " 'Russia is a major player in global energy production']"
            ]
          },
          "metadata": {},
          "execution_count": 22
        }
      ],
      "source": [
        "text = \"Russia is the largest country in the world by land area\\nMoscow is the capital city of Russia\\nThe Russian language is one of the most widely spoken languages in the world\\nRussia is known for its rich history and culture\\nThe Trans-Siberian Railway is the longest railway line in the world\\nRussia has a strong tradition in literature, music and ballet\\nThe country is famous for its cold winters and vast landscapes\\nRussia is a major player in global energy production\\n\"\n",
        "with open(\"russia.txt\", \"w\") as f:\n",
        "    f.write(text)\n",
        "rdd_russia = sc.textFile(\"/content/russia.txt\")\n",
        "rdd_russia.collect()"
      ]
    },
    {
      "cell_type": "markdown",
      "metadata": {
        "id": "97lNiBsKMcHk"
      },
      "source": [
        "Count the total number of lines."
      ]
    },
    {
      "cell_type": "code",
      "execution_count": 23,
      "metadata": {
        "id": "rPGshl2gMcHl",
        "outputId": "b80ac88d-d9d2-4144-81e4-31080b755892",
        "colab": {
          "base_uri": "https://localhost:8080/"
        }
      },
      "outputs": [
        {
          "output_type": "execute_result",
          "data": {
            "text/plain": [
              "8"
            ]
          },
          "metadata": {},
          "execution_count": 23
        }
      ],
      "source": [
        "rdd_russia.count()"
      ]
    },
    {
      "cell_type": "markdown",
      "metadata": {
        "id": "qQi6RuoFMcHl"
      },
      "source": [
        "Count how many lines contain the word \"Russia\""
      ]
    },
    {
      "cell_type": "code",
      "execution_count": 24,
      "metadata": {
        "id": "d7OlbvzwMcHl",
        "outputId": "6c75382b-6914-4479-959c-f97f57d29878",
        "colab": {
          "base_uri": "https://localhost:8080/"
        }
      },
      "outputs": [
        {
          "output_type": "execute_result",
          "data": {
            "text/plain": [
              "6"
            ]
          },
          "metadata": {},
          "execution_count": 24
        }
      ],
      "source": [
        "rdd_russia.filter(lambda line: \"Russia\" in line).count()"
      ]
    },
    {
      "cell_type": "markdown",
      "metadata": {
        "id": "Tu1Ft5t9McHl"
      },
      "source": [
        "Find the most 5 frequent word in the file."
      ]
    },
    {
      "cell_type": "code",
      "execution_count": 25,
      "metadata": {
        "id": "rswCx8PYMcHl",
        "outputId": "8f10d835-a850-4ec0-eb2b-23b109723d15",
        "colab": {
          "base_uri": "https://localhost:8080/"
        }
      },
      "outputs": [
        {
          "output_type": "execute_result",
          "data": {
            "text/plain": [
              "[('the', 10), ('is', 7), ('russia', 5), ('in', 5), ('world', 3)]"
            ]
          },
          "metadata": {},
          "execution_count": 25
        }
      ],
      "source": [
        "words = rdd_russia.flatMap(lambda line: line.split()).map(lambda word: (word.lower(), 1)).reduceByKey(lambda a, b: a + b)\n",
        "words.takeOrdered(5, key=lambda x: -x[1])"
      ]
    },
    {
      "cell_type": "markdown",
      "metadata": {
        "id": "NB8dPBCVMcHl"
      },
      "source": [
        "Tokenize words"
      ]
    },
    {
      "cell_type": "code",
      "execution_count": 26,
      "metadata": {
        "id": "tUxS3FBVMcHl",
        "outputId": "687bdc7f-099c-463c-c0c1-ec273c21df01",
        "colab": {
          "base_uri": "https://localhost:8080/"
        }
      },
      "outputs": [
        {
          "output_type": "stream",
          "name": "stdout",
          "text": [
            "['Russia', 'is', 'the', 'largest', 'country', 'in', 'the', 'world', 'by', 'land', 'area', 'Moscow', 'is', 'the', 'capital', 'city', 'of', 'Russia', 'The', 'Russian', 'language', 'is', 'one', 'of', 'the', 'most', 'widely', 'spoken', 'languages', 'in', 'the', 'world', 'Russia', 'is', 'known', 'for', 'its', 'rich', 'history', 'and', 'culture', 'The', 'Trans-Siberian', 'Railway', 'is', 'the', 'longest', 'railway', 'line', 'in', 'the', 'world', 'Russia', 'has', 'a', 'strong', 'tradition', 'in', 'literature,', 'music', 'and', 'ballet', 'The', 'country', 'is', 'famous', 'for', 'its', 'cold', 'winters', 'and', 'vast', 'landscapes', 'Russia', 'is', 'a', 'major', 'player', 'in', 'global', 'energy', 'production']\n"
          ]
        }
      ],
      "source": [
        "tokens = rdd_russia.flatMap(lambda line: line.split())\n",
        "print(tokens.collect())"
      ]
    },
    {
      "cell_type": "markdown",
      "metadata": {
        "id": "Jv25C-XTMcHl"
      },
      "source": [
        "Remove stopwords (a, the, is, to, in, of)."
      ]
    },
    {
      "cell_type": "code",
      "execution_count": 27,
      "metadata": {
        "id": "kzWViaNbMcHm",
        "outputId": "88105028-0a51-494d-d4fb-4385025ee7f5",
        "colab": {
          "base_uri": "https://localhost:8080/"
        }
      },
      "outputs": [
        {
          "output_type": "stream",
          "name": "stdout",
          "text": [
            "['Russia', 'largest', 'country', 'world', 'by', 'land', 'area', 'Moscow', 'capital', 'city', 'Russia', 'Russian', 'language', 'one', 'most', 'widely', 'spoken', 'languages', 'world', 'Russia', 'known', 'for', 'its', 'rich', 'history', 'and', 'culture', 'Trans-Siberian', 'Railway', 'longest', 'railway', 'line', 'world', 'Russia', 'has', 'strong', 'tradition', 'literature,', 'music', 'and', 'ballet', 'country', 'famous', 'for', 'its', 'cold', 'winters', 'and', 'vast', 'landscapes', 'Russia', 'major', 'player', 'global', 'energy', 'production']\n"
          ]
        }
      ],
      "source": [
        "stopwords = ['a', 'the', 'is', 'to', 'in', 'of']\n",
        "filtered_tokens = rdd_russia.flatMap(lambda line: line.split()).filter(lambda word: word.lower() not in stopwords)\n",
        "print(filtered_tokens.collect())"
      ]
    },
    {
      "cell_type": "markdown",
      "metadata": {
        "id": "Ohd2F3OSMcHm"
      },
      "source": [
        "Count the frequency of each word"
      ]
    },
    {
      "cell_type": "code",
      "execution_count": 28,
      "metadata": {
        "id": "pfEQYP-HMcHm",
        "outputId": "a318d833-61d5-4b34-ca7d-5dc486ef4377",
        "colab": {
          "base_uri": "https://localhost:8080/"
        }
      },
      "outputs": [
        {
          "output_type": "stream",
          "name": "stdout",
          "text": [
            "[('largest', 1), ('country', 2), ('world', 3), ('by', 1), ('land', 1), ('area', 1), ('capital', 1), ('russian', 1), ('language', 1), ('most', 1), ('widely', 1), ('known', 1), ('for', 2), ('history', 1), ('and', 3), ('line', 1), ('literature,', 1), ('music', 1), ('famous', 1), ('cold', 1), ('winters', 1), ('landscapes', 1), ('player', 1), ('energy', 1), ('production', 1), ('russia', 5), ('moscow', 1), ('city', 1), ('one', 1), ('spoken', 1), ('languages', 1), ('its', 2), ('rich', 1), ('culture', 1), ('trans-siberian', 1), ('railway', 2), ('longest', 1), ('has', 1), ('strong', 1), ('tradition', 1), ('ballet', 1), ('vast', 1), ('major', 1), ('global', 1)]\n"
          ]
        }
      ],
      "source": [
        "word_freq = filtered_tokens.map(lambda word: (word.lower(), 1)).reduceByKey(lambda a, b: a + b)\n",
        "print(word_freq.collect())"
      ]
    },
    {
      "cell_type": "code",
      "execution_count": 30,
      "metadata": {
        "id": "5mxr5t_tMcHm"
      },
      "outputs": [],
      "source": [
        "schema = 'id integer, name string, age integer, salary integer'\n",
        "data = [\n",
        "    (1, \"Ali\", 25, 4000),\n",
        "    (2, \"Mariam\", 30, 6000),\n",
        "    (3, \"Omar\", 35, 7000),\n",
        "    (4, \"Sara\", 28, 5000),\n",
        "    (5, \"Omar\", 25, 6500),\n",
        "    (6, \"Mariam\", 26, 7500)\n",
        "]\n",
        "\n",
        "df = spark.createDataFrame(data,schema)"
      ]
    },
    {
      "cell_type": "markdown",
      "metadata": {
        "id": "YolFGO44McHm"
      },
      "source": [
        "Show schema and first 2 rows"
      ]
    },
    {
      "cell_type": "code",
      "execution_count": 31,
      "metadata": {
        "id": "IxFO__phMcHm",
        "outputId": "6a5c5c43-aa61-48fb-d7c5-a74e6bd2cab3",
        "colab": {
          "base_uri": "https://localhost:8080/"
        }
      },
      "outputs": [
        {
          "output_type": "stream",
          "name": "stdout",
          "text": [
            "root\n",
            " |-- id: integer (nullable = true)\n",
            " |-- name: string (nullable = true)\n",
            " |-- age: integer (nullable = true)\n",
            " |-- salary: integer (nullable = true)\n",
            "\n",
            "+---+------+---+------+\n",
            "| id|  name|age|salary|\n",
            "+---+------+---+------+\n",
            "|  1|   Ali| 25|  4000|\n",
            "|  2|Mariam| 30|  6000|\n",
            "+---+------+---+------+\n",
            "only showing top 2 rows\n",
            "\n"
          ]
        }
      ],
      "source": [
        "df.printSchema()\n",
        "df.show(2)"
      ]
    },
    {
      "cell_type": "markdown",
      "metadata": {
        "id": "MsCBEJDsMcHm"
      },
      "source": [
        "Select only name and salary"
      ]
    },
    {
      "cell_type": "code",
      "execution_count": 32,
      "metadata": {
        "id": "Gwq_EkTqMcHp",
        "outputId": "7b0de6f4-d017-43f7-e699-fa6da0f2b557",
        "colab": {
          "base_uri": "https://localhost:8080/"
        }
      },
      "outputs": [
        {
          "output_type": "stream",
          "name": "stdout",
          "text": [
            "+------+------+\n",
            "|  name|salary|\n",
            "+------+------+\n",
            "|   Ali|  4000|\n",
            "|Mariam|  6000|\n",
            "|  Omar|  7000|\n",
            "|  Sara|  5000|\n",
            "|  Omar|  6500|\n",
            "|Mariam|  7500|\n",
            "+------+------+\n",
            "\n"
          ]
        }
      ],
      "source": [
        "df.select(\"name\", \"salary\").show()"
      ]
    },
    {
      "cell_type": "markdown",
      "metadata": {
        "id": "Xj-_NAy0McHp"
      },
      "source": [
        "Find the average salary"
      ]
    },
    {
      "cell_type": "code",
      "execution_count": 33,
      "metadata": {
        "id": "Ol82-y8SMcHp",
        "outputId": "0b8e5ad5-d76f-4768-9340-2ebf0eaa4578",
        "colab": {
          "base_uri": "https://localhost:8080/"
        }
      },
      "outputs": [
        {
          "output_type": "stream",
          "name": "stdout",
          "text": [
            "+-----------+\n",
            "|avg(salary)|\n",
            "+-----------+\n",
            "|     6000.0|\n",
            "+-----------+\n",
            "\n"
          ]
        }
      ],
      "source": [
        "df.select(fun.avg(\"salary\")).show()"
      ]
    },
    {
      "cell_type": "markdown",
      "metadata": {
        "id": "BlHi2YwwMcHp"
      },
      "source": [
        "Filter employees older than 28"
      ]
    },
    {
      "cell_type": "code",
      "execution_count": 34,
      "metadata": {
        "id": "bTe5VouyMcHp",
        "outputId": "f8d5bac3-1ee7-4621-dfd0-62e6ce8e37c3",
        "colab": {
          "base_uri": "https://localhost:8080/"
        }
      },
      "outputs": [
        {
          "output_type": "stream",
          "name": "stdout",
          "text": [
            "+---+------+---+------+\n",
            "| id|  name|age|salary|\n",
            "+---+------+---+------+\n",
            "|  2|Mariam| 30|  6000|\n",
            "|  3|  Omar| 35|  7000|\n",
            "+---+------+---+------+\n",
            "\n"
          ]
        }
      ],
      "source": [
        "df.filter(df.age > 28).show()"
      ]
    },
    {
      "cell_type": "markdown",
      "metadata": {
        "id": "Zayzm2s8McHp"
      },
      "source": [
        "Count distinct values in the name column"
      ]
    },
    {
      "cell_type": "code",
      "execution_count": 35,
      "metadata": {
        "id": "WpKAWJZ_McHp",
        "outputId": "ea72753b-850e-4fac-d3e0-56e53578e419",
        "colab": {
          "base_uri": "https://localhost:8080/"
        }
      },
      "outputs": [
        {
          "output_type": "execute_result",
          "data": {
            "text/plain": [
              "4"
            ]
          },
          "metadata": {},
          "execution_count": 35
        }
      ],
      "source": [
        "df.select(\"name\").distinct().count()"
      ]
    },
    {
      "cell_type": "markdown",
      "metadata": {
        "id": "uFF1UeOhMcHp"
      },
      "source": [
        "Group by a the name column and find average salary"
      ]
    },
    {
      "cell_type": "code",
      "execution_count": 36,
      "metadata": {
        "id": "zKnSWMq6McHp",
        "outputId": "5d079dcb-a8ec-4cf7-869f-429f4ed168f1",
        "colab": {
          "base_uri": "https://localhost:8080/"
        }
      },
      "outputs": [
        {
          "output_type": "stream",
          "name": "stdout",
          "text": [
            "+------+-------+\n",
            "|  name|Average|\n",
            "+------+-------+\n",
            "|  Omar| 6750.0|\n",
            "|Mariam| 6750.0|\n",
            "|   Ali| 4000.0|\n",
            "|  Sara| 5000.0|\n",
            "+------+-------+\n",
            "\n"
          ]
        }
      ],
      "source": [
        "df.groupBy(\"name\").agg(fun.avg(\"salary\").alias(\"Average\")).show()"
      ]
    },
    {
      "cell_type": "markdown",
      "metadata": {
        "id": "E3XnbDc6McHq"
      },
      "source": [
        "Find the avg sales"
      ]
    },
    {
      "cell_type": "code",
      "execution_count": null,
      "metadata": {
        "id": "WKMv6OGQdYok",
        "outputId": "138e5b5c-93dc-447a-97ff-1e460b0011cc"
      },
      "outputs": [
        {
          "name": "stdout",
          "output_type": "stream",
          "text": [
            "+----+-----+-----+\n",
            "|  Id| Name|Sales|\n",
            "+----+-----+-----+\n",
            "|emp1| John| NULL|\n",
            "|emp2| NULL| NULL|\n",
            "|emp3| NULL|345.0|\n",
            "|emp4|Cindy|456.0|\n",
            "+----+-----+-----+\n",
            "\n"
          ]
        }
      ],
      "source": [
        "df1 = spark.read.csv(\"/data/NullData.csv\", header=True, inferSchema=True) #this file in shared folder\n",
        "df1.show()"
      ]
    },
    {
      "cell_type": "code",
      "execution_count": null,
      "metadata": {
        "id": "_qBIdls-McHq",
        "outputId": "a5a6ec32-d2af-43e9-f1d5-6e917a36f173"
      },
      "outputs": [
        {
          "name": "stdout",
          "output_type": "stream",
          "text": [
            "400.5\n"
          ]
        }
      ],
      "source": [
        "avg_sales = df1.select(fun.avg(\"Sales\")).collect()[0][0]\n",
        "print(avg_sales)"
      ]
    },
    {
      "cell_type": "markdown",
      "metadata": {
        "id": "aM2iIFi8McHq"
      },
      "source": [
        "Replace null name with 'Unknown' and sales with the avg sales of the column"
      ]
    },
    {
      "cell_type": "code",
      "execution_count": null,
      "metadata": {
        "id": "GC5TNHLqMcHq",
        "outputId": "759f6d1d-f775-4f09-8050-faec7dd9e616"
      },
      "outputs": [
        {
          "name": "stdout",
          "output_type": "stream",
          "text": [
            "+----+-------+-----+\n",
            "|  Id|   Name|Sales|\n",
            "+----+-------+-----+\n",
            "|emp1|   John|400.5|\n",
            "|emp2|Unknown|400.5|\n",
            "|emp3|Unknown|345.0|\n",
            "|emp4|  Cindy|456.0|\n",
            "+----+-------+-----+\n",
            "\n"
          ]
        }
      ],
      "source": [
        "avg_sales = df1.select(fun.avg(\"Sales\")).collect()[0][0]\n",
        "df1.fillna({\"Name\": \"Unknown\", \"Sales\": avg_sales}).show()"
      ]
    }
  ],
  "metadata": {
    "anaconda-cloud": {},
    "colab": {
      "provenance": []
    },
    "kernelspec": {
      "display_name": "Python 3 (ipykernel)",
      "language": "python",
      "name": "python3"
    }
  },
  "nbformat": 4,
  "nbformat_minor": 0
}